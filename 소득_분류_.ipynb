{
  "cells": [
    {
      "cell_type": "markdown",
      "metadata": {
        "id": "_9gL4pIT66WG"
      },
      "source": [
        "# 경로 이동"
      ]
    },
    {
      "cell_type": "code",
      "execution_count": null,
      "metadata": {
        "colab": {
          "base_uri": "https://localhost:8080/"
        },
        "id": "gBApk-XY5Egj",
        "outputId": "40241b9f-df84-4719-e882-a785fe815206"
      },
      "outputs": [
        {
          "output_type": "stream",
          "name": "stdout",
          "text": [
            " classification220718.zip  '소득 분류.ipynb'        test.csv\n",
            " data_description.txt       sample_submission.csv   train.csv\n"
          ]
        }
      ],
      "source": [
        "ls"
      ]
    },
    {
      "cell_type": "code",
      "execution_count": null,
      "metadata": {
        "colab": {
          "base_uri": "https://localhost:8080/"
        },
        "id": "o1Dbd6Ol5s77",
        "outputId": "e3a9a1c8-6737-4b9f-ac3d-c5e493f5b5eb"
      },
      "outputs": [
        {
          "output_type": "stream",
          "name": "stdout",
          "text": [
            "[Errno 2] No such file or directory: 'drive/MyDrive/Colab Notebooks'\n",
            "/content/drive/MyDrive/Colab Notebooks/광주 인공지능 사관학교/케글 대회\n"
          ]
        }
      ],
      "source": [
        "%cd drive/MyDrive/Colab Notebooks"
      ]
    },
    {
      "cell_type": "code",
      "execution_count": null,
      "metadata": {
        "colab": {
          "base_uri": "https://localhost:8080/"
        },
        "id": "JRO3xK7h54CA",
        "outputId": "10c34999-61b8-4385-a73b-a1df3491c90c"
      },
      "outputs": [
        {
          "output_type": "stream",
          "name": "stdout",
          "text": [
            "[Errno 2] No such file or directory: '광주 인공지능 사관학교/케글 대회'\n",
            "/content/drive/MyDrive/Colab Notebooks/광주 인공지능 사관학교/케글 대회\n"
          ]
        }
      ],
      "source": [
        "%cd 광주 인공지능 사관학교/케글 대회"
      ]
    },
    {
      "cell_type": "code",
      "execution_count": null,
      "metadata": {
        "colab": {
          "base_uri": "https://localhost:8080/"
        },
        "id": "ZrM3pmCc6w0w",
        "outputId": "ef66fb8f-d4aa-44f4-fb10-1f0a3159f10c"
      },
      "outputs": [
        {
          "output_type": "stream",
          "name": "stdout",
          "text": [
            " classification220718.zip  '소득 분류.ipynb'        test.csv\n",
            " data_description.txt       sample_submission.csv   train.csv\n"
          ]
        }
      ],
      "source": [
        "ls"
      ]
    },
    {
      "cell_type": "markdown",
      "metadata": {
        "id": "mtgLQnaD7BA1"
      },
      "source": [
        "# 데이터 불러오기"
      ]
    },
    {
      "cell_type": "code",
      "execution_count": null,
      "metadata": {
        "id": "iPTpVV7K6y4Y"
      },
      "outputs": [],
      "source": [
        "import pandas as pd\n",
        "import numpy as np\n",
        "import seaborn as sns\n",
        "import matplotlib.pyplot as plt\n",
        "from sklearn.tree import plot_tree\n",
        "from sklearn.preprocessing import LabelEncoder\n",
        "from sklearn.tree import DecisionTreeClassifier\n",
        "from sklearn.model_selection import train_test_split"
      ]
    },
    {
      "cell_type": "code",
      "source": [
        "ls"
      ],
      "metadata": {
        "colab": {
          "base_uri": "https://localhost:8080/"
        },
        "id": "DhFPxrR_2GhX",
        "outputId": "fd89645b-4fc5-41f4-93f3-512a07baefd9"
      },
      "execution_count": null,
      "outputs": [
        {
          "output_type": "stream",
          "name": "stdout",
          "text": [
            " classification220718.zip  '소득 분류.ipynb'        test.csv\n",
            " data_description.txt       sample_submission.csv   train.csv\n"
          ]
        }
      ]
    },
    {
      "cell_type": "code",
      "execution_count": null,
      "metadata": {
        "id": "huygW61Q7DTE"
      },
      "outputs": [],
      "source": [
        "train = pd.read_csv('train.csv')\n",
        "test = pd.read_csv('test.csv')\n",
        "submit = pd.read_csv('sample_submission.csv')"
      ]
    },
    {
      "cell_type": "markdown",
      "metadata": {
        "id": "u8CPfIMr7SS-"
      },
      "source": [
        "# 데이터 EDA"
      ]
    },
    {
      "cell_type": "code",
      "source": [
        "test.columns"
      ],
      "metadata": {
        "colab": {
          "base_uri": "https://localhost:8080/"
        },
        "id": "KBb4giPQpgU3",
        "outputId": "7c3ce3f9-79f9-4d56-ffd2-910608216877"
      },
      "execution_count": null,
      "outputs": [
        {
          "output_type": "execute_result",
          "data": {
            "text/plain": [
              "Index(['no', 'age', 'workclass', 'fnlwgt', 'education', 'education-num',\n",
              "       'marital-status', 'occupation', 'relationship', 'race', 'sex',\n",
              "       'capital-gain', 'capital-loss', 'hours-per-week', 'native-country'],\n",
              "      dtype='object')"
            ]
          },
          "metadata": {},
          "execution_count": 57
        }
      ]
    },
    {
      "cell_type": "code",
      "execution_count": null,
      "metadata": {
        "colab": {
          "base_uri": "https://localhost:8080/",
          "height": 730
        },
        "id": "mtPc8j4d7O2-",
        "outputId": "9a9eef59-f279-4acc-de80-8c955e7ff93f"
      },
      "outputs": [
        {
          "output_type": "execute_result",
          "data": {
            "text/plain": [
              "          no  age          workclass  fnlwgt      education  education-num  \\\n",
              "0          1   25            Private  219199           11th              7   \n",
              "1          2   39            Private   52978   Some-college             10   \n",
              "2          3   35            Private  196899      Bachelors             13   \n",
              "3          4   64            Private  135527      Assoc-voc             11   \n",
              "4          5   24            Private   60783   Some-college             10   \n",
              "...      ...  ...                ...     ...            ...            ...   \n",
              "29300  29301   20            Private  100605        HS-grad              9   \n",
              "29301  29302   21            Private  372636        HS-grad              9   \n",
              "29302  29303   18   Self-emp-not-inc  258474           10th              6   \n",
              "29303  29304   33            Private  157446           11th              7   \n",
              "29304  29305   65                  ?   94809        HS-grad              9   \n",
              "\n",
              "            marital-status          occupation    relationship  \\\n",
              "0                 Divorced   Machine-op-inspct   Not-in-family   \n",
              "1                 Divorced       Other-service   Not-in-family   \n",
              "2            Never-married   Handlers-cleaners   Not-in-family   \n",
              "3                 Divorced        Tech-support   Not-in-family   \n",
              "4       Married-civ-spouse    Transport-moving         Husband   \n",
              "...                    ...                 ...             ...   \n",
              "29300        Never-married               Sales       Own-child   \n",
              "29301        Never-married               Sales       Own-child   \n",
              "29302        Never-married     Farming-fishing       Own-child   \n",
              "29303        Never-married        Craft-repair   Not-in-family   \n",
              "29304              Widowed                   ?   Not-in-family   \n",
              "\n",
              "                      race      sex  capital-gain  capital-loss  \\\n",
              "0                    White     Male             0             0   \n",
              "1                    White   Female             0          1721   \n",
              "2       Asian-Pac-Islander   Female             0             0   \n",
              "3                    White   Female             0             0   \n",
              "4                    White     Male             0             0   \n",
              "...                    ...      ...           ...           ...   \n",
              "29300                Other     Male             0             0   \n",
              "29301                Black     Male             0             0   \n",
              "29302                White     Male             0             0   \n",
              "29303                White     Male             0             0   \n",
              "29304                White   Female             0             0   \n",
              "\n",
              "       hours-per-week  native-country  income  \n",
              "0                  40   United-States       0  \n",
              "1                  55   United-States       0  \n",
              "2                  50           Haiti       0  \n",
              "3                  40   United-States       0  \n",
              "4                  70   United-States       1  \n",
              "...               ...             ...     ...  \n",
              "29300              40     Puerto-Rico       0  \n",
              "29301              40   United-States       0  \n",
              "29302              40   United-States       0  \n",
              "29303              65   United-States       0  \n",
              "29304              40   United-States       0  \n",
              "\n",
              "[29305 rows x 16 columns]"
            ],
            "text/html": [
              "\n",
              "  <div id=\"df-52517c21-5bdc-4161-bb0f-6257a618fa4d\">\n",
              "    <div class=\"colab-df-container\">\n",
              "      <div>\n",
              "<style scoped>\n",
              "    .dataframe tbody tr th:only-of-type {\n",
              "        vertical-align: middle;\n",
              "    }\n",
              "\n",
              "    .dataframe tbody tr th {\n",
              "        vertical-align: top;\n",
              "    }\n",
              "\n",
              "    .dataframe thead th {\n",
              "        text-align: right;\n",
              "    }\n",
              "</style>\n",
              "<table border=\"1\" class=\"dataframe\">\n",
              "  <thead>\n",
              "    <tr style=\"text-align: right;\">\n",
              "      <th></th>\n",
              "      <th>no</th>\n",
              "      <th>age</th>\n",
              "      <th>workclass</th>\n",
              "      <th>fnlwgt</th>\n",
              "      <th>education</th>\n",
              "      <th>education-num</th>\n",
              "      <th>marital-status</th>\n",
              "      <th>occupation</th>\n",
              "      <th>relationship</th>\n",
              "      <th>race</th>\n",
              "      <th>sex</th>\n",
              "      <th>capital-gain</th>\n",
              "      <th>capital-loss</th>\n",
              "      <th>hours-per-week</th>\n",
              "      <th>native-country</th>\n",
              "      <th>income</th>\n",
              "    </tr>\n",
              "  </thead>\n",
              "  <tbody>\n",
              "    <tr>\n",
              "      <th>0</th>\n",
              "      <td>1</td>\n",
              "      <td>25</td>\n",
              "      <td>Private</td>\n",
              "      <td>219199</td>\n",
              "      <td>11th</td>\n",
              "      <td>7</td>\n",
              "      <td>Divorced</td>\n",
              "      <td>Machine-op-inspct</td>\n",
              "      <td>Not-in-family</td>\n",
              "      <td>White</td>\n",
              "      <td>Male</td>\n",
              "      <td>0</td>\n",
              "      <td>0</td>\n",
              "      <td>40</td>\n",
              "      <td>United-States</td>\n",
              "      <td>0</td>\n",
              "    </tr>\n",
              "    <tr>\n",
              "      <th>1</th>\n",
              "      <td>2</td>\n",
              "      <td>39</td>\n",
              "      <td>Private</td>\n",
              "      <td>52978</td>\n",
              "      <td>Some-college</td>\n",
              "      <td>10</td>\n",
              "      <td>Divorced</td>\n",
              "      <td>Other-service</td>\n",
              "      <td>Not-in-family</td>\n",
              "      <td>White</td>\n",
              "      <td>Female</td>\n",
              "      <td>0</td>\n",
              "      <td>1721</td>\n",
              "      <td>55</td>\n",
              "      <td>United-States</td>\n",
              "      <td>0</td>\n",
              "    </tr>\n",
              "    <tr>\n",
              "      <th>2</th>\n",
              "      <td>3</td>\n",
              "      <td>35</td>\n",
              "      <td>Private</td>\n",
              "      <td>196899</td>\n",
              "      <td>Bachelors</td>\n",
              "      <td>13</td>\n",
              "      <td>Never-married</td>\n",
              "      <td>Handlers-cleaners</td>\n",
              "      <td>Not-in-family</td>\n",
              "      <td>Asian-Pac-Islander</td>\n",
              "      <td>Female</td>\n",
              "      <td>0</td>\n",
              "      <td>0</td>\n",
              "      <td>50</td>\n",
              "      <td>Haiti</td>\n",
              "      <td>0</td>\n",
              "    </tr>\n",
              "    <tr>\n",
              "      <th>3</th>\n",
              "      <td>4</td>\n",
              "      <td>64</td>\n",
              "      <td>Private</td>\n",
              "      <td>135527</td>\n",
              "      <td>Assoc-voc</td>\n",
              "      <td>11</td>\n",
              "      <td>Divorced</td>\n",
              "      <td>Tech-support</td>\n",
              "      <td>Not-in-family</td>\n",
              "      <td>White</td>\n",
              "      <td>Female</td>\n",
              "      <td>0</td>\n",
              "      <td>0</td>\n",
              "      <td>40</td>\n",
              "      <td>United-States</td>\n",
              "      <td>0</td>\n",
              "    </tr>\n",
              "    <tr>\n",
              "      <th>4</th>\n",
              "      <td>5</td>\n",
              "      <td>24</td>\n",
              "      <td>Private</td>\n",
              "      <td>60783</td>\n",
              "      <td>Some-college</td>\n",
              "      <td>10</td>\n",
              "      <td>Married-civ-spouse</td>\n",
              "      <td>Transport-moving</td>\n",
              "      <td>Husband</td>\n",
              "      <td>White</td>\n",
              "      <td>Male</td>\n",
              "      <td>0</td>\n",
              "      <td>0</td>\n",
              "      <td>70</td>\n",
              "      <td>United-States</td>\n",
              "      <td>1</td>\n",
              "    </tr>\n",
              "    <tr>\n",
              "      <th>...</th>\n",
              "      <td>...</td>\n",
              "      <td>...</td>\n",
              "      <td>...</td>\n",
              "      <td>...</td>\n",
              "      <td>...</td>\n",
              "      <td>...</td>\n",
              "      <td>...</td>\n",
              "      <td>...</td>\n",
              "      <td>...</td>\n",
              "      <td>...</td>\n",
              "      <td>...</td>\n",
              "      <td>...</td>\n",
              "      <td>...</td>\n",
              "      <td>...</td>\n",
              "      <td>...</td>\n",
              "      <td>...</td>\n",
              "    </tr>\n",
              "    <tr>\n",
              "      <th>29300</th>\n",
              "      <td>29301</td>\n",
              "      <td>20</td>\n",
              "      <td>Private</td>\n",
              "      <td>100605</td>\n",
              "      <td>HS-grad</td>\n",
              "      <td>9</td>\n",
              "      <td>Never-married</td>\n",
              "      <td>Sales</td>\n",
              "      <td>Own-child</td>\n",
              "      <td>Other</td>\n",
              "      <td>Male</td>\n",
              "      <td>0</td>\n",
              "      <td>0</td>\n",
              "      <td>40</td>\n",
              "      <td>Puerto-Rico</td>\n",
              "      <td>0</td>\n",
              "    </tr>\n",
              "    <tr>\n",
              "      <th>29301</th>\n",
              "      <td>29302</td>\n",
              "      <td>21</td>\n",
              "      <td>Private</td>\n",
              "      <td>372636</td>\n",
              "      <td>HS-grad</td>\n",
              "      <td>9</td>\n",
              "      <td>Never-married</td>\n",
              "      <td>Sales</td>\n",
              "      <td>Own-child</td>\n",
              "      <td>Black</td>\n",
              "      <td>Male</td>\n",
              "      <td>0</td>\n",
              "      <td>0</td>\n",
              "      <td>40</td>\n",
              "      <td>United-States</td>\n",
              "      <td>0</td>\n",
              "    </tr>\n",
              "    <tr>\n",
              "      <th>29302</th>\n",
              "      <td>29303</td>\n",
              "      <td>18</td>\n",
              "      <td>Self-emp-not-inc</td>\n",
              "      <td>258474</td>\n",
              "      <td>10th</td>\n",
              "      <td>6</td>\n",
              "      <td>Never-married</td>\n",
              "      <td>Farming-fishing</td>\n",
              "      <td>Own-child</td>\n",
              "      <td>White</td>\n",
              "      <td>Male</td>\n",
              "      <td>0</td>\n",
              "      <td>0</td>\n",
              "      <td>40</td>\n",
              "      <td>United-States</td>\n",
              "      <td>0</td>\n",
              "    </tr>\n",
              "    <tr>\n",
              "      <th>29303</th>\n",
              "      <td>29304</td>\n",
              "      <td>33</td>\n",
              "      <td>Private</td>\n",
              "      <td>157446</td>\n",
              "      <td>11th</td>\n",
              "      <td>7</td>\n",
              "      <td>Never-married</td>\n",
              "      <td>Craft-repair</td>\n",
              "      <td>Not-in-family</td>\n",
              "      <td>White</td>\n",
              "      <td>Male</td>\n",
              "      <td>0</td>\n",
              "      <td>0</td>\n",
              "      <td>65</td>\n",
              "      <td>United-States</td>\n",
              "      <td>0</td>\n",
              "    </tr>\n",
              "    <tr>\n",
              "      <th>29304</th>\n",
              "      <td>29305</td>\n",
              "      <td>65</td>\n",
              "      <td>?</td>\n",
              "      <td>94809</td>\n",
              "      <td>HS-grad</td>\n",
              "      <td>9</td>\n",
              "      <td>Widowed</td>\n",
              "      <td>?</td>\n",
              "      <td>Not-in-family</td>\n",
              "      <td>White</td>\n",
              "      <td>Female</td>\n",
              "      <td>0</td>\n",
              "      <td>0</td>\n",
              "      <td>40</td>\n",
              "      <td>United-States</td>\n",
              "      <td>0</td>\n",
              "    </tr>\n",
              "  </tbody>\n",
              "</table>\n",
              "<p>29305 rows × 16 columns</p>\n",
              "</div>\n",
              "      <button class=\"colab-df-convert\" onclick=\"convertToInteractive('df-52517c21-5bdc-4161-bb0f-6257a618fa4d')\"\n",
              "              title=\"Convert this dataframe to an interactive table.\"\n",
              "              style=\"display:none;\">\n",
              "        \n",
              "  <svg xmlns=\"http://www.w3.org/2000/svg\" height=\"24px\"viewBox=\"0 0 24 24\"\n",
              "       width=\"24px\">\n",
              "    <path d=\"M0 0h24v24H0V0z\" fill=\"none\"/>\n",
              "    <path d=\"M18.56 5.44l.94 2.06.94-2.06 2.06-.94-2.06-.94-.94-2.06-.94 2.06-2.06.94zm-11 1L8.5 8.5l.94-2.06 2.06-.94-2.06-.94L8.5 2.5l-.94 2.06-2.06.94zm10 10l.94 2.06.94-2.06 2.06-.94-2.06-.94-.94-2.06-.94 2.06-2.06.94z\"/><path d=\"M17.41 7.96l-1.37-1.37c-.4-.4-.92-.59-1.43-.59-.52 0-1.04.2-1.43.59L10.3 9.45l-7.72 7.72c-.78.78-.78 2.05 0 2.83L4 21.41c.39.39.9.59 1.41.59.51 0 1.02-.2 1.41-.59l7.78-7.78 2.81-2.81c.8-.78.8-2.07 0-2.86zM5.41 20L4 18.59l7.72-7.72 1.47 1.35L5.41 20z\"/>\n",
              "  </svg>\n",
              "      </button>\n",
              "      \n",
              "  <style>\n",
              "    .colab-df-container {\n",
              "      display:flex;\n",
              "      flex-wrap:wrap;\n",
              "      gap: 12px;\n",
              "    }\n",
              "\n",
              "    .colab-df-convert {\n",
              "      background-color: #E8F0FE;\n",
              "      border: none;\n",
              "      border-radius: 50%;\n",
              "      cursor: pointer;\n",
              "      display: none;\n",
              "      fill: #1967D2;\n",
              "      height: 32px;\n",
              "      padding: 0 0 0 0;\n",
              "      width: 32px;\n",
              "    }\n",
              "\n",
              "    .colab-df-convert:hover {\n",
              "      background-color: #E2EBFA;\n",
              "      box-shadow: 0px 1px 2px rgba(60, 64, 67, 0.3), 0px 1px 3px 1px rgba(60, 64, 67, 0.15);\n",
              "      fill: #174EA6;\n",
              "    }\n",
              "\n",
              "    [theme=dark] .colab-df-convert {\n",
              "      background-color: #3B4455;\n",
              "      fill: #D2E3FC;\n",
              "    }\n",
              "\n",
              "    [theme=dark] .colab-df-convert:hover {\n",
              "      background-color: #434B5C;\n",
              "      box-shadow: 0px 1px 3px 1px rgba(0, 0, 0, 0.15);\n",
              "      filter: drop-shadow(0px 1px 2px rgba(0, 0, 0, 0.3));\n",
              "      fill: #FFFFFF;\n",
              "    }\n",
              "  </style>\n",
              "\n",
              "      <script>\n",
              "        const buttonEl =\n",
              "          document.querySelector('#df-52517c21-5bdc-4161-bb0f-6257a618fa4d button.colab-df-convert');\n",
              "        buttonEl.style.display =\n",
              "          google.colab.kernel.accessAllowed ? 'block' : 'none';\n",
              "\n",
              "        async function convertToInteractive(key) {\n",
              "          const element = document.querySelector('#df-52517c21-5bdc-4161-bb0f-6257a618fa4d');\n",
              "          const dataTable =\n",
              "            await google.colab.kernel.invokeFunction('convertToInteractive',\n",
              "                                                     [key], {});\n",
              "          if (!dataTable) return;\n",
              "\n",
              "          const docLinkHtml = 'Like what you see? Visit the ' +\n",
              "            '<a target=\"_blank\" href=https://colab.research.google.com/notebooks/data_table.ipynb>data table notebook</a>'\n",
              "            + ' to learn more about interactive tables.';\n",
              "          element.innerHTML = '';\n",
              "          dataTable['output_type'] = 'display_data';\n",
              "          await google.colab.output.renderOutput(dataTable, element);\n",
              "          const docLink = document.createElement('div');\n",
              "          docLink.innerHTML = docLinkHtml;\n",
              "          element.appendChild(docLink);\n",
              "        }\n",
              "      </script>\n",
              "    </div>\n",
              "  </div>\n",
              "  "
            ]
          },
          "metadata": {},
          "execution_count": 58
        }
      ],
      "source": [
        "train"
      ]
    },
    {
      "cell_type": "markdown",
      "metadata": {
        "id": "CyL881-g8twd"
      },
      "source": [
        "﻿\n",
        "no : 순서\n",
        "\n",
        "age : 나이\n",
        "\n",
        "workclass : 일 유형\n",
        "\n",
        "fnlwgt : CPS(Current Population Survey) 가중치 : 최근 인구 조사\n",
        "\n",
        "education : 교육수준\n",
        "\n",
        "education.num : 교육수준 번호\n",
        "\n",
        "marital.status : 결혼 상태\n",
        "\n",
        "occupation : 직업\n",
        "\n",
        "relationship : 가족관계\n",
        "\n",
        "race : 인종\n",
        "\n",
        "sex : 성별\n",
        "\n",
        "capital.gain : 자본 이익\n",
        "\n",
        "capital.loss : 자본 손실\n",
        "\n",
        "hours.per.week : 주당 근무시간\n",
        "\n",
        "native.country : 본 국적\n",
        "\n",
        "target : 소득\n",
        "\n",
        "0 = <=50K (5만 달러 이하)\n",
        "\n",
        "1 = >50K (5만 달러 초과)\n",
        "\n",
        "﻿"
      ]
    },
    {
      "cell_type": "code",
      "execution_count": null,
      "metadata": {
        "colab": {
          "base_uri": "https://localhost:8080/"
        },
        "id": "3jZy9z4R7P43",
        "outputId": "97e8944d-7612-4cde-ee2f-2da7761cc68a"
      },
      "outputs": [
        {
          "output_type": "stream",
          "name": "stdout",
          "text": [
            "<class 'pandas.core.frame.DataFrame'>\n",
            "RangeIndex: 29305 entries, 0 to 29304\n",
            "Data columns (total 16 columns):\n",
            " #   Column          Non-Null Count  Dtype \n",
            "---  ------          --------------  ----- \n",
            " 0   no              29305 non-null  int64 \n",
            " 1   age             29305 non-null  int64 \n",
            " 2   workclass       29305 non-null  object\n",
            " 3   fnlwgt          29305 non-null  int64 \n",
            " 4   education       29305 non-null  object\n",
            " 5   education-num   29305 non-null  int64 \n",
            " 6   marital-status  29305 non-null  object\n",
            " 7   occupation      29305 non-null  object\n",
            " 8   relationship    29305 non-null  object\n",
            " 9   race            29305 non-null  object\n",
            " 10  sex             29305 non-null  object\n",
            " 11  capital-gain    29305 non-null  int64 \n",
            " 12  capital-loss    29305 non-null  int64 \n",
            " 13  hours-per-week  29305 non-null  int64 \n",
            " 14  native-country  29305 non-null  object\n",
            " 15  income          29305 non-null  int64 \n",
            "dtypes: int64(8), object(8)\n",
            "memory usage: 3.6+ MB\n"
          ]
        }
      ],
      "source": [
        "train.info()"
      ]
    },
    {
      "cell_type": "markdown",
      "metadata": {
        "id": "HJGMhwzK-cnu"
      },
      "source": [
        "## 명목형 변수 추출"
      ]
    },
    {
      "cell_type": "code",
      "source": [
        "train.columns"
      ],
      "metadata": {
        "colab": {
          "base_uri": "https://localhost:8080/"
        },
        "id": "lWE-wuMkNJ70",
        "outputId": "e7b5a1ee-a277-4181-b87e-05323bcde2b1"
      },
      "execution_count": null,
      "outputs": [
        {
          "output_type": "execute_result",
          "data": {
            "text/plain": [
              "Index(['no', 'age', 'workclass', 'fnlwgt', 'education', 'education-num',\n",
              "       'marital-status', 'occupation', 'relationship', 'race', 'sex',\n",
              "       'capital-gain', 'capital-loss', 'hours-per-week', 'native-country',\n",
              "       'income'],\n",
              "      dtype='object')"
            ]
          },
          "metadata": {},
          "execution_count": 60
        }
      ]
    },
    {
      "cell_type": "markdown",
      "source": [
        "## train set 전처리"
      ],
      "metadata": {
        "id": "-8c9sw1Pa80p"
      }
    },
    {
      "cell_type": "code",
      "execution_count": null,
      "metadata": {
        "colab": {
          "base_uri": "https://localhost:8080/"
        },
        "id": "IWRMeocD8r0b",
        "outputId": "f35089de-9e76-4d09-f58f-2279ad04f4a9"
      },
      "outputs": [
        {
          "output_type": "execute_result",
          "data": {
            "text/plain": [
              "['workclass',\n",
              " 'education',\n",
              " 'marital-status',\n",
              " 'occupation',\n",
              " 'relationship',\n",
              " 'race',\n",
              " 'sex',\n",
              " 'native-country']"
            ]
          },
          "metadata": {},
          "execution_count": 12
        }
      ],
      "source": [
        "normal = train[train.columns[-2]].dtype\n",
        "\n",
        "nominal_form = []\n",
        "\n",
        "for i in train.columns:\n",
        "  if train[i].dtype == normal:\n",
        "    nominal_form.append(i)\n",
        "\n",
        "nominal_form"
      ]
    },
    {
      "cell_type": "markdown",
      "metadata": {
        "id": "Fhwh0m6RA73_"
      },
      "source": [
        "## 명목형 범주형으로 변환"
      ]
    },
    {
      "cell_type": "code",
      "execution_count": null,
      "metadata": {
        "colab": {
          "base_uri": "https://localhost:8080/"
        },
        "id": "_qDv3fLH-G4P",
        "outputId": "7abd024f-b0e9-454a-97a3-cd33bd2b6612"
      },
      "outputs": [
        {
          "output_type": "stream",
          "name": "stdout",
          "text": [
            "<class 'pandas.core.frame.DataFrame'>\n",
            "RangeIndex: 29305 entries, 0 to 29304\n",
            "Data columns (total 15 columns):\n",
            " #   Column          Non-Null Count  Dtype\n",
            "---  ------          --------------  -----\n",
            " 0   age             29305 non-null  int64\n",
            " 1   workclass       29305 non-null  int64\n",
            " 2   fnlwgt          29305 non-null  int64\n",
            " 3   education       29305 non-null  int64\n",
            " 4   education-num   29305 non-null  int64\n",
            " 5   marital-status  29305 non-null  int64\n",
            " 6   occupation      29305 non-null  int64\n",
            " 7   relationship    29305 non-null  int64\n",
            " 8   race            29305 non-null  int64\n",
            " 9   sex             29305 non-null  int64\n",
            " 10  capital-gain    29305 non-null  int64\n",
            " 11  capital-loss    29305 non-null  int64\n",
            " 12  hours-per-week  29305 non-null  int64\n",
            " 13  native-country  29305 non-null  int64\n",
            " 14  income          29305 non-null  int64\n",
            "dtypes: int64(15)\n",
            "memory usage: 3.4 MB\n"
          ]
        }
      ],
      "source": [
        "for i in nominal_form:\n",
        "  s_k=LabelEncoder().fit(train[i])\n",
        "  train[i] =s_k.transform(train[i])\n",
        "\n",
        "train.info()"
      ]
    },
    {
      "cell_type": "markdown",
      "source": [
        "# test set 전처리"
      ],
      "metadata": {
        "id": "sCc5yJGlbE1k"
      }
    },
    {
      "cell_type": "code",
      "source": [
        "test_ = test.drop(['no'], axis = 1)"
      ],
      "metadata": {
        "id": "VB37WvKixp4h"
      },
      "execution_count": null,
      "outputs": []
    },
    {
      "cell_type": "code",
      "source": [
        "for i in nominal_form:\n",
        "  s_k=LabelEncoder().fit(test_[i])\n",
        "  test_[i] =s_k.transform(test_[i])\n",
        "\n",
        "test_.info()"
      ],
      "metadata": {
        "colab": {
          "base_uri": "https://localhost:8080/"
        },
        "id": "-f0iUBJMzszo",
        "outputId": "9414c15d-cda7-4192-df8c-fab023c8a333"
      },
      "execution_count": null,
      "outputs": [
        {
          "output_type": "stream",
          "name": "stdout",
          "text": [
            "<class 'pandas.core.frame.DataFrame'>\n",
            "RangeIndex: 19537 entries, 0 to 19536\n",
            "Data columns (total 14 columns):\n",
            " #   Column          Non-Null Count  Dtype\n",
            "---  ------          --------------  -----\n",
            " 0   age             19537 non-null  int64\n",
            " 1   workclass       19537 non-null  int64\n",
            " 2   fnlwgt          19537 non-null  int64\n",
            " 3   education       19537 non-null  int64\n",
            " 4   education-num   19537 non-null  int64\n",
            " 5   marital-status  19537 non-null  int64\n",
            " 6   occupation      19537 non-null  int64\n",
            " 7   relationship    19537 non-null  int64\n",
            " 8   race            19537 non-null  int64\n",
            " 9   sex             19537 non-null  int64\n",
            " 10  capital-gain    19537 non-null  int64\n",
            " 11  capital-loss    19537 non-null  int64\n",
            " 12  hours-per-week  19537 non-null  int64\n",
            " 13  native-country  19537 non-null  int64\n",
            "dtypes: int64(14)\n",
            "memory usage: 2.1 MB\n"
          ]
        }
      ]
    },
    {
      "cell_type": "markdown",
      "metadata": {
        "id": "I27LY0SzB05-"
      },
      "source": [
        "## 각 독립변수와 종속 변수 간 상관관계"
      ]
    },
    {
      "cell_type": "code",
      "source": [
        "train.corr()"
      ],
      "metadata": {
        "colab": {
          "base_uri": "https://localhost:8080/",
          "height": 719
        },
        "id": "2oy74bYPQoTS",
        "outputId": "c6d057a4-3d01-4834-9e4b-c457ce08fb0e"
      },
      "execution_count": null,
      "outputs": [
        {
          "output_type": "execute_result",
          "data": {
            "text/plain": [
              "                      no       age  workclass    fnlwgt  education  \\\n",
              "no              1.000000  0.001111   0.001101  0.002347  -0.006186   \n",
              "age             0.001111  1.000000   0.017302 -0.075753  -0.010707   \n",
              "workclass       0.001101  0.017302   1.000000 -0.019199   0.015821   \n",
              "fnlwgt          0.002347 -0.075753  -0.019199  1.000000  -0.022574   \n",
              "education      -0.006186 -0.010707   0.015821 -0.022574   1.000000   \n",
              "education-num  -0.008466  0.035084   0.057548 -0.030600   0.358224   \n",
              "marital-status  0.005667 -0.258136  -0.064475  0.028180  -0.033034   \n",
              "occupation     -0.009121 -0.017938   0.255221 -0.004528  -0.019543   \n",
              "relationship    0.000714 -0.263515  -0.098501  0.006756  -0.013271   \n",
              "race            0.002467  0.026360   0.043100 -0.026042   0.008130   \n",
              "sex             0.000594  0.083999   0.095419  0.029929  -0.024049   \n",
              "capital-gain    0.003916  0.078498   0.037689 -0.005051   0.028027   \n",
              "capital-loss    0.003246  0.054413   0.002578 -0.001513   0.021188   \n",
              "hours-per-week  0.003166  0.073100   0.136815 -0.010154   0.055359   \n",
              "native-country -0.001106 -0.003506  -0.010012 -0.053128   0.065693   \n",
              "income         -0.004080  0.238460   0.047796 -0.002994   0.081312   \n",
              "\n",
              "                education-num  marital-status  occupation  relationship  \\\n",
              "no                  -0.008466        0.005667   -0.009121      0.000714   \n",
              "age                  0.035084       -0.258136   -0.017938     -0.263515   \n",
              "workclass            0.057548       -0.064475    0.255221     -0.098501   \n",
              "fnlwgt              -0.030600        0.028180   -0.004528      0.006756   \n",
              "education            0.358224       -0.033034   -0.019543     -0.013271   \n",
              "education-num        1.000000       -0.066478    0.110267     -0.096429   \n",
              "marital-status      -0.066478        1.000000   -0.015346      0.187639   \n",
              "occupation           0.110267       -0.015346    1.000000     -0.081857   \n",
              "relationship        -0.096429        0.187639   -0.081857      1.000000   \n",
              "race                 0.029572       -0.067153    0.008722     -0.118671   \n",
              "sex                  0.017029       -0.128427    0.083736     -0.578295   \n",
              "capital-gain         0.127651       -0.044147    0.026461     -0.061873   \n",
              "capital-loss         0.083925       -0.027554    0.013131     -0.057646   \n",
              "hours-per-week       0.147569       -0.186983    0.075433     -0.249984   \n",
              "native-country       0.057464       -0.021387   -0.012962     -0.008758   \n",
              "income               0.331798       -0.198866    0.078490     -0.257709   \n",
              "\n",
              "                    race       sex  capital-gain  capital-loss  \\\n",
              "no              0.002467  0.000594      0.003916      0.003246   \n",
              "age             0.026360  0.083999      0.078498      0.054413   \n",
              "workclass       0.043100  0.095419      0.037689      0.002578   \n",
              "fnlwgt         -0.026042  0.029929     -0.005051     -0.001513   \n",
              "education       0.008130 -0.024049      0.028027      0.021188   \n",
              "education-num   0.029572  0.017029      0.127651      0.083925   \n",
              "marital-status -0.067153 -0.128427     -0.044147     -0.027554   \n",
              "occupation      0.008722  0.083736      0.026461      0.013131   \n",
              "relationship   -0.118671 -0.578295     -0.061873     -0.057646   \n",
              "race            1.000000  0.090411      0.010407      0.017811   \n",
              "sex             0.090411  1.000000      0.050664      0.042925   \n",
              "capital-gain    0.010407  0.050664      1.000000     -0.031401   \n",
              "capital-loss    0.017811  0.042925     -0.031401      1.000000   \n",
              "hours-per-week  0.041903  0.231437      0.088609      0.055271   \n",
              "native-country  0.145420 -0.008334      0.006409      0.003584   \n",
              "income          0.075287  0.215613      0.221387      0.135645   \n",
              "\n",
              "                hours-per-week  native-country    income  \n",
              "no                    0.003166       -0.001106 -0.004080  \n",
              "age                   0.073100       -0.003506  0.238460  \n",
              "workclass             0.136815       -0.010012  0.047796  \n",
              "fnlwgt               -0.010154       -0.053128 -0.002994  \n",
              "education             0.055359        0.065693  0.081312  \n",
              "education-num         0.147569        0.057464  0.331798  \n",
              "marital-status       -0.186983       -0.021387 -0.198866  \n",
              "occupation            0.075433       -0.012962  0.078490  \n",
              "relationship         -0.249984       -0.008758 -0.257709  \n",
              "race                  0.041903        0.145420  0.075287  \n",
              "sex                   0.231437       -0.008334  0.215613  \n",
              "capital-gain          0.088609        0.006409  0.221387  \n",
              "capital-loss          0.055271        0.003584  0.135645  \n",
              "hours-per-week        1.000000       -0.001269  0.231045  \n",
              "native-country       -0.001269        1.000000  0.017058  \n",
              "income                0.231045        0.017058  1.000000  "
            ],
            "text/html": [
              "\n",
              "  <div id=\"df-e0f5b3ad-d645-443e-9cd6-756318af00b8\">\n",
              "    <div class=\"colab-df-container\">\n",
              "      <div>\n",
              "<style scoped>\n",
              "    .dataframe tbody tr th:only-of-type {\n",
              "        vertical-align: middle;\n",
              "    }\n",
              "\n",
              "    .dataframe tbody tr th {\n",
              "        vertical-align: top;\n",
              "    }\n",
              "\n",
              "    .dataframe thead th {\n",
              "        text-align: right;\n",
              "    }\n",
              "</style>\n",
              "<table border=\"1\" class=\"dataframe\">\n",
              "  <thead>\n",
              "    <tr style=\"text-align: right;\">\n",
              "      <th></th>\n",
              "      <th>no</th>\n",
              "      <th>age</th>\n",
              "      <th>workclass</th>\n",
              "      <th>fnlwgt</th>\n",
              "      <th>education</th>\n",
              "      <th>education-num</th>\n",
              "      <th>marital-status</th>\n",
              "      <th>occupation</th>\n",
              "      <th>relationship</th>\n",
              "      <th>race</th>\n",
              "      <th>sex</th>\n",
              "      <th>capital-gain</th>\n",
              "      <th>capital-loss</th>\n",
              "      <th>hours-per-week</th>\n",
              "      <th>native-country</th>\n",
              "      <th>income</th>\n",
              "    </tr>\n",
              "  </thead>\n",
              "  <tbody>\n",
              "    <tr>\n",
              "      <th>no</th>\n",
              "      <td>1.000000</td>\n",
              "      <td>0.001111</td>\n",
              "      <td>0.001101</td>\n",
              "      <td>0.002347</td>\n",
              "      <td>-0.006186</td>\n",
              "      <td>-0.008466</td>\n",
              "      <td>0.005667</td>\n",
              "      <td>-0.009121</td>\n",
              "      <td>0.000714</td>\n",
              "      <td>0.002467</td>\n",
              "      <td>0.000594</td>\n",
              "      <td>0.003916</td>\n",
              "      <td>0.003246</td>\n",
              "      <td>0.003166</td>\n",
              "      <td>-0.001106</td>\n",
              "      <td>-0.004080</td>\n",
              "    </tr>\n",
              "    <tr>\n",
              "      <th>age</th>\n",
              "      <td>0.001111</td>\n",
              "      <td>1.000000</td>\n",
              "      <td>0.017302</td>\n",
              "      <td>-0.075753</td>\n",
              "      <td>-0.010707</td>\n",
              "      <td>0.035084</td>\n",
              "      <td>-0.258136</td>\n",
              "      <td>-0.017938</td>\n",
              "      <td>-0.263515</td>\n",
              "      <td>0.026360</td>\n",
              "      <td>0.083999</td>\n",
              "      <td>0.078498</td>\n",
              "      <td>0.054413</td>\n",
              "      <td>0.073100</td>\n",
              "      <td>-0.003506</td>\n",
              "      <td>0.238460</td>\n",
              "    </tr>\n",
              "    <tr>\n",
              "      <th>workclass</th>\n",
              "      <td>0.001101</td>\n",
              "      <td>0.017302</td>\n",
              "      <td>1.000000</td>\n",
              "      <td>-0.019199</td>\n",
              "      <td>0.015821</td>\n",
              "      <td>0.057548</td>\n",
              "      <td>-0.064475</td>\n",
              "      <td>0.255221</td>\n",
              "      <td>-0.098501</td>\n",
              "      <td>0.043100</td>\n",
              "      <td>0.095419</td>\n",
              "      <td>0.037689</td>\n",
              "      <td>0.002578</td>\n",
              "      <td>0.136815</td>\n",
              "      <td>-0.010012</td>\n",
              "      <td>0.047796</td>\n",
              "    </tr>\n",
              "    <tr>\n",
              "      <th>fnlwgt</th>\n",
              "      <td>0.002347</td>\n",
              "      <td>-0.075753</td>\n",
              "      <td>-0.019199</td>\n",
              "      <td>1.000000</td>\n",
              "      <td>-0.022574</td>\n",
              "      <td>-0.030600</td>\n",
              "      <td>0.028180</td>\n",
              "      <td>-0.004528</td>\n",
              "      <td>0.006756</td>\n",
              "      <td>-0.026042</td>\n",
              "      <td>0.029929</td>\n",
              "      <td>-0.005051</td>\n",
              "      <td>-0.001513</td>\n",
              "      <td>-0.010154</td>\n",
              "      <td>-0.053128</td>\n",
              "      <td>-0.002994</td>\n",
              "    </tr>\n",
              "    <tr>\n",
              "      <th>education</th>\n",
              "      <td>-0.006186</td>\n",
              "      <td>-0.010707</td>\n",
              "      <td>0.015821</td>\n",
              "      <td>-0.022574</td>\n",
              "      <td>1.000000</td>\n",
              "      <td>0.358224</td>\n",
              "      <td>-0.033034</td>\n",
              "      <td>-0.019543</td>\n",
              "      <td>-0.013271</td>\n",
              "      <td>0.008130</td>\n",
              "      <td>-0.024049</td>\n",
              "      <td>0.028027</td>\n",
              "      <td>0.021188</td>\n",
              "      <td>0.055359</td>\n",
              "      <td>0.065693</td>\n",
              "      <td>0.081312</td>\n",
              "    </tr>\n",
              "    <tr>\n",
              "      <th>education-num</th>\n",
              "      <td>-0.008466</td>\n",
              "      <td>0.035084</td>\n",
              "      <td>0.057548</td>\n",
              "      <td>-0.030600</td>\n",
              "      <td>0.358224</td>\n",
              "      <td>1.000000</td>\n",
              "      <td>-0.066478</td>\n",
              "      <td>0.110267</td>\n",
              "      <td>-0.096429</td>\n",
              "      <td>0.029572</td>\n",
              "      <td>0.017029</td>\n",
              "      <td>0.127651</td>\n",
              "      <td>0.083925</td>\n",
              "      <td>0.147569</td>\n",
              "      <td>0.057464</td>\n",
              "      <td>0.331798</td>\n",
              "    </tr>\n",
              "    <tr>\n",
              "      <th>marital-status</th>\n",
              "      <td>0.005667</td>\n",
              "      <td>-0.258136</td>\n",
              "      <td>-0.064475</td>\n",
              "      <td>0.028180</td>\n",
              "      <td>-0.033034</td>\n",
              "      <td>-0.066478</td>\n",
              "      <td>1.000000</td>\n",
              "      <td>-0.015346</td>\n",
              "      <td>0.187639</td>\n",
              "      <td>-0.067153</td>\n",
              "      <td>-0.128427</td>\n",
              "      <td>-0.044147</td>\n",
              "      <td>-0.027554</td>\n",
              "      <td>-0.186983</td>\n",
              "      <td>-0.021387</td>\n",
              "      <td>-0.198866</td>\n",
              "    </tr>\n",
              "    <tr>\n",
              "      <th>occupation</th>\n",
              "      <td>-0.009121</td>\n",
              "      <td>-0.017938</td>\n",
              "      <td>0.255221</td>\n",
              "      <td>-0.004528</td>\n",
              "      <td>-0.019543</td>\n",
              "      <td>0.110267</td>\n",
              "      <td>-0.015346</td>\n",
              "      <td>1.000000</td>\n",
              "      <td>-0.081857</td>\n",
              "      <td>0.008722</td>\n",
              "      <td>0.083736</td>\n",
              "      <td>0.026461</td>\n",
              "      <td>0.013131</td>\n",
              "      <td>0.075433</td>\n",
              "      <td>-0.012962</td>\n",
              "      <td>0.078490</td>\n",
              "    </tr>\n",
              "    <tr>\n",
              "      <th>relationship</th>\n",
              "      <td>0.000714</td>\n",
              "      <td>-0.263515</td>\n",
              "      <td>-0.098501</td>\n",
              "      <td>0.006756</td>\n",
              "      <td>-0.013271</td>\n",
              "      <td>-0.096429</td>\n",
              "      <td>0.187639</td>\n",
              "      <td>-0.081857</td>\n",
              "      <td>1.000000</td>\n",
              "      <td>-0.118671</td>\n",
              "      <td>-0.578295</td>\n",
              "      <td>-0.061873</td>\n",
              "      <td>-0.057646</td>\n",
              "      <td>-0.249984</td>\n",
              "      <td>-0.008758</td>\n",
              "      <td>-0.257709</td>\n",
              "    </tr>\n",
              "    <tr>\n",
              "      <th>race</th>\n",
              "      <td>0.002467</td>\n",
              "      <td>0.026360</td>\n",
              "      <td>0.043100</td>\n",
              "      <td>-0.026042</td>\n",
              "      <td>0.008130</td>\n",
              "      <td>0.029572</td>\n",
              "      <td>-0.067153</td>\n",
              "      <td>0.008722</td>\n",
              "      <td>-0.118671</td>\n",
              "      <td>1.000000</td>\n",
              "      <td>0.090411</td>\n",
              "      <td>0.010407</td>\n",
              "      <td>0.017811</td>\n",
              "      <td>0.041903</td>\n",
              "      <td>0.145420</td>\n",
              "      <td>0.075287</td>\n",
              "    </tr>\n",
              "    <tr>\n",
              "      <th>sex</th>\n",
              "      <td>0.000594</td>\n",
              "      <td>0.083999</td>\n",
              "      <td>0.095419</td>\n",
              "      <td>0.029929</td>\n",
              "      <td>-0.024049</td>\n",
              "      <td>0.017029</td>\n",
              "      <td>-0.128427</td>\n",
              "      <td>0.083736</td>\n",
              "      <td>-0.578295</td>\n",
              "      <td>0.090411</td>\n",
              "      <td>1.000000</td>\n",
              "      <td>0.050664</td>\n",
              "      <td>0.042925</td>\n",
              "      <td>0.231437</td>\n",
              "      <td>-0.008334</td>\n",
              "      <td>0.215613</td>\n",
              "    </tr>\n",
              "    <tr>\n",
              "      <th>capital-gain</th>\n",
              "      <td>0.003916</td>\n",
              "      <td>0.078498</td>\n",
              "      <td>0.037689</td>\n",
              "      <td>-0.005051</td>\n",
              "      <td>0.028027</td>\n",
              "      <td>0.127651</td>\n",
              "      <td>-0.044147</td>\n",
              "      <td>0.026461</td>\n",
              "      <td>-0.061873</td>\n",
              "      <td>0.010407</td>\n",
              "      <td>0.050664</td>\n",
              "      <td>1.000000</td>\n",
              "      <td>-0.031401</td>\n",
              "      <td>0.088609</td>\n",
              "      <td>0.006409</td>\n",
              "      <td>0.221387</td>\n",
              "    </tr>\n",
              "    <tr>\n",
              "      <th>capital-loss</th>\n",
              "      <td>0.003246</td>\n",
              "      <td>0.054413</td>\n",
              "      <td>0.002578</td>\n",
              "      <td>-0.001513</td>\n",
              "      <td>0.021188</td>\n",
              "      <td>0.083925</td>\n",
              "      <td>-0.027554</td>\n",
              "      <td>0.013131</td>\n",
              "      <td>-0.057646</td>\n",
              "      <td>0.017811</td>\n",
              "      <td>0.042925</td>\n",
              "      <td>-0.031401</td>\n",
              "      <td>1.000000</td>\n",
              "      <td>0.055271</td>\n",
              "      <td>0.003584</td>\n",
              "      <td>0.135645</td>\n",
              "    </tr>\n",
              "    <tr>\n",
              "      <th>hours-per-week</th>\n",
              "      <td>0.003166</td>\n",
              "      <td>0.073100</td>\n",
              "      <td>0.136815</td>\n",
              "      <td>-0.010154</td>\n",
              "      <td>0.055359</td>\n",
              "      <td>0.147569</td>\n",
              "      <td>-0.186983</td>\n",
              "      <td>0.075433</td>\n",
              "      <td>-0.249984</td>\n",
              "      <td>0.041903</td>\n",
              "      <td>0.231437</td>\n",
              "      <td>0.088609</td>\n",
              "      <td>0.055271</td>\n",
              "      <td>1.000000</td>\n",
              "      <td>-0.001269</td>\n",
              "      <td>0.231045</td>\n",
              "    </tr>\n",
              "    <tr>\n",
              "      <th>native-country</th>\n",
              "      <td>-0.001106</td>\n",
              "      <td>-0.003506</td>\n",
              "      <td>-0.010012</td>\n",
              "      <td>-0.053128</td>\n",
              "      <td>0.065693</td>\n",
              "      <td>0.057464</td>\n",
              "      <td>-0.021387</td>\n",
              "      <td>-0.012962</td>\n",
              "      <td>-0.008758</td>\n",
              "      <td>0.145420</td>\n",
              "      <td>-0.008334</td>\n",
              "      <td>0.006409</td>\n",
              "      <td>0.003584</td>\n",
              "      <td>-0.001269</td>\n",
              "      <td>1.000000</td>\n",
              "      <td>0.017058</td>\n",
              "    </tr>\n",
              "    <tr>\n",
              "      <th>income</th>\n",
              "      <td>-0.004080</td>\n",
              "      <td>0.238460</td>\n",
              "      <td>0.047796</td>\n",
              "      <td>-0.002994</td>\n",
              "      <td>0.081312</td>\n",
              "      <td>0.331798</td>\n",
              "      <td>-0.198866</td>\n",
              "      <td>0.078490</td>\n",
              "      <td>-0.257709</td>\n",
              "      <td>0.075287</td>\n",
              "      <td>0.215613</td>\n",
              "      <td>0.221387</td>\n",
              "      <td>0.135645</td>\n",
              "      <td>0.231045</td>\n",
              "      <td>0.017058</td>\n",
              "      <td>1.000000</td>\n",
              "    </tr>\n",
              "  </tbody>\n",
              "</table>\n",
              "</div>\n",
              "      <button class=\"colab-df-convert\" onclick=\"convertToInteractive('df-e0f5b3ad-d645-443e-9cd6-756318af00b8')\"\n",
              "              title=\"Convert this dataframe to an interactive table.\"\n",
              "              style=\"display:none;\">\n",
              "        \n",
              "  <svg xmlns=\"http://www.w3.org/2000/svg\" height=\"24px\"viewBox=\"0 0 24 24\"\n",
              "       width=\"24px\">\n",
              "    <path d=\"M0 0h24v24H0V0z\" fill=\"none\"/>\n",
              "    <path d=\"M18.56 5.44l.94 2.06.94-2.06 2.06-.94-2.06-.94-.94-2.06-.94 2.06-2.06.94zm-11 1L8.5 8.5l.94-2.06 2.06-.94-2.06-.94L8.5 2.5l-.94 2.06-2.06.94zm10 10l.94 2.06.94-2.06 2.06-.94-2.06-.94-.94-2.06-.94 2.06-2.06.94z\"/><path d=\"M17.41 7.96l-1.37-1.37c-.4-.4-.92-.59-1.43-.59-.52 0-1.04.2-1.43.59L10.3 9.45l-7.72 7.72c-.78.78-.78 2.05 0 2.83L4 21.41c.39.39.9.59 1.41.59.51 0 1.02-.2 1.41-.59l7.78-7.78 2.81-2.81c.8-.78.8-2.07 0-2.86zM5.41 20L4 18.59l7.72-7.72 1.47 1.35L5.41 20z\"/>\n",
              "  </svg>\n",
              "      </button>\n",
              "      \n",
              "  <style>\n",
              "    .colab-df-container {\n",
              "      display:flex;\n",
              "      flex-wrap:wrap;\n",
              "      gap: 12px;\n",
              "    }\n",
              "\n",
              "    .colab-df-convert {\n",
              "      background-color: #E8F0FE;\n",
              "      border: none;\n",
              "      border-radius: 50%;\n",
              "      cursor: pointer;\n",
              "      display: none;\n",
              "      fill: #1967D2;\n",
              "      height: 32px;\n",
              "      padding: 0 0 0 0;\n",
              "      width: 32px;\n",
              "    }\n",
              "\n",
              "    .colab-df-convert:hover {\n",
              "      background-color: #E2EBFA;\n",
              "      box-shadow: 0px 1px 2px rgba(60, 64, 67, 0.3), 0px 1px 3px 1px rgba(60, 64, 67, 0.15);\n",
              "      fill: #174EA6;\n",
              "    }\n",
              "\n",
              "    [theme=dark] .colab-df-convert {\n",
              "      background-color: #3B4455;\n",
              "      fill: #D2E3FC;\n",
              "    }\n",
              "\n",
              "    [theme=dark] .colab-df-convert:hover {\n",
              "      background-color: #434B5C;\n",
              "      box-shadow: 0px 1px 3px 1px rgba(0, 0, 0, 0.15);\n",
              "      filter: drop-shadow(0px 1px 2px rgba(0, 0, 0, 0.3));\n",
              "      fill: #FFFFFF;\n",
              "    }\n",
              "  </style>\n",
              "\n",
              "      <script>\n",
              "        const buttonEl =\n",
              "          document.querySelector('#df-e0f5b3ad-d645-443e-9cd6-756318af00b8 button.colab-df-convert');\n",
              "        buttonEl.style.display =\n",
              "          google.colab.kernel.accessAllowed ? 'block' : 'none';\n",
              "\n",
              "        async function convertToInteractive(key) {\n",
              "          const element = document.querySelector('#df-e0f5b3ad-d645-443e-9cd6-756318af00b8');\n",
              "          const dataTable =\n",
              "            await google.colab.kernel.invokeFunction('convertToInteractive',\n",
              "                                                     [key], {});\n",
              "          if (!dataTable) return;\n",
              "\n",
              "          const docLinkHtml = 'Like what you see? Visit the ' +\n",
              "            '<a target=\"_blank\" href=https://colab.research.google.com/notebooks/data_table.ipynb>data table notebook</a>'\n",
              "            + ' to learn more about interactive tables.';\n",
              "          element.innerHTML = '';\n",
              "          dataTable['output_type'] = 'display_data';\n",
              "          await google.colab.output.renderOutput(dataTable, element);\n",
              "          const docLink = document.createElement('div');\n",
              "          docLink.innerHTML = docLinkHtml;\n",
              "          element.appendChild(docLink);\n",
              "        }\n",
              "      </script>\n",
              "    </div>\n",
              "  </div>\n",
              "  "
            ]
          },
          "metadata": {},
          "execution_count": 14
        }
      ]
    },
    {
      "cell_type": "code",
      "source": [
        "train.corr().iloc[-1,:]"
      ],
      "metadata": {
        "colab": {
          "base_uri": "https://localhost:8080/"
        },
        "id": "xiNlnCunQmVS",
        "outputId": "762f1042-315c-4203-e7fe-11fd5c141724"
      },
      "execution_count": null,
      "outputs": [
        {
          "output_type": "execute_result",
          "data": {
            "text/plain": [
              "no               -0.004080\n",
              "age               0.238460\n",
              "workclass         0.047796\n",
              "fnlwgt           -0.002994\n",
              "education         0.081312\n",
              "education-num     0.331798\n",
              "marital-status   -0.198866\n",
              "occupation        0.078490\n",
              "relationship     -0.257709\n",
              "race              0.075287\n",
              "sex               0.215613\n",
              "capital-gain      0.221387\n",
              "capital-loss      0.135645\n",
              "hours-per-week    0.231045\n",
              "native-country    0.017058\n",
              "income            1.000000\n",
              "Name: income, dtype: float64"
            ]
          },
          "metadata": {},
          "execution_count": 15
        }
      ]
    },
    {
      "cell_type": "markdown",
      "source": [
        "종속 변수와 상관성이 높은 변수\n",
        "\n",
        "age: 0.238460\n",
        "\n",
        "education-num 0.331798\n",
        "\n",
        "sex 0.215613\n",
        "\n",
        "capital-gain 0.221387\n",
        "\n",
        "relationship     -0.257709\n",
        "\n",
        "marital-status   -0.198866"
      ],
      "metadata": {
        "id": "sx665ky8XzG7"
      }
    },
    {
      "cell_type": "code",
      "source": [
        "train.columns"
      ],
      "metadata": {
        "colab": {
          "base_uri": "https://localhost:8080/"
        },
        "id": "D1cwQB6_YjW6",
        "outputId": "225edbff-31c5-441a-8adc-d82434ef3d64"
      },
      "execution_count": null,
      "outputs": [
        {
          "output_type": "execute_result",
          "data": {
            "text/plain": [
              "Index(['no', 'age', 'workclass', 'fnlwgt', 'education', 'education-num',\n",
              "       'marital-status', 'occupation', 'relationship', 'race', 'sex',\n",
              "       'capital-gain', 'capital-loss', 'hours-per-week', 'native-country',\n",
              "       'income'],\n",
              "      dtype='object')"
            ]
          },
          "metadata": {},
          "execution_count": 16
        }
      ]
    },
    {
      "cell_type": "code",
      "source": [
        "train[['education', 'education-num']]"
      ],
      "metadata": {
        "colab": {
          "base_uri": "https://localhost:8080/",
          "height": 423
        },
        "id": "y-bRXuEUZCnm",
        "outputId": "fdb6f07b-ed76-4752-ce4e-4e256f239290"
      },
      "execution_count": null,
      "outputs": [
        {
          "output_type": "execute_result",
          "data": {
            "text/plain": [
              "       education  education-num\n",
              "0              1              7\n",
              "1             15             10\n",
              "2              9             13\n",
              "3              8             11\n",
              "4             15             10\n",
              "...          ...            ...\n",
              "29300         11              9\n",
              "29301         11              9\n",
              "29302          0              6\n",
              "29303          1              7\n",
              "29304         11              9\n",
              "\n",
              "[29305 rows x 2 columns]"
            ],
            "text/html": [
              "\n",
              "  <div id=\"df-90ad2f3e-3778-4cdf-9a54-d101c68beb24\">\n",
              "    <div class=\"colab-df-container\">\n",
              "      <div>\n",
              "<style scoped>\n",
              "    .dataframe tbody tr th:only-of-type {\n",
              "        vertical-align: middle;\n",
              "    }\n",
              "\n",
              "    .dataframe tbody tr th {\n",
              "        vertical-align: top;\n",
              "    }\n",
              "\n",
              "    .dataframe thead th {\n",
              "        text-align: right;\n",
              "    }\n",
              "</style>\n",
              "<table border=\"1\" class=\"dataframe\">\n",
              "  <thead>\n",
              "    <tr style=\"text-align: right;\">\n",
              "      <th></th>\n",
              "      <th>education</th>\n",
              "      <th>education-num</th>\n",
              "    </tr>\n",
              "  </thead>\n",
              "  <tbody>\n",
              "    <tr>\n",
              "      <th>0</th>\n",
              "      <td>1</td>\n",
              "      <td>7</td>\n",
              "    </tr>\n",
              "    <tr>\n",
              "      <th>1</th>\n",
              "      <td>15</td>\n",
              "      <td>10</td>\n",
              "    </tr>\n",
              "    <tr>\n",
              "      <th>2</th>\n",
              "      <td>9</td>\n",
              "      <td>13</td>\n",
              "    </tr>\n",
              "    <tr>\n",
              "      <th>3</th>\n",
              "      <td>8</td>\n",
              "      <td>11</td>\n",
              "    </tr>\n",
              "    <tr>\n",
              "      <th>4</th>\n",
              "      <td>15</td>\n",
              "      <td>10</td>\n",
              "    </tr>\n",
              "    <tr>\n",
              "      <th>...</th>\n",
              "      <td>...</td>\n",
              "      <td>...</td>\n",
              "    </tr>\n",
              "    <tr>\n",
              "      <th>29300</th>\n",
              "      <td>11</td>\n",
              "      <td>9</td>\n",
              "    </tr>\n",
              "    <tr>\n",
              "      <th>29301</th>\n",
              "      <td>11</td>\n",
              "      <td>9</td>\n",
              "    </tr>\n",
              "    <tr>\n",
              "      <th>29302</th>\n",
              "      <td>0</td>\n",
              "      <td>6</td>\n",
              "    </tr>\n",
              "    <tr>\n",
              "      <th>29303</th>\n",
              "      <td>1</td>\n",
              "      <td>7</td>\n",
              "    </tr>\n",
              "    <tr>\n",
              "      <th>29304</th>\n",
              "      <td>11</td>\n",
              "      <td>9</td>\n",
              "    </tr>\n",
              "  </tbody>\n",
              "</table>\n",
              "<p>29305 rows × 2 columns</p>\n",
              "</div>\n",
              "      <button class=\"colab-df-convert\" onclick=\"convertToInteractive('df-90ad2f3e-3778-4cdf-9a54-d101c68beb24')\"\n",
              "              title=\"Convert this dataframe to an interactive table.\"\n",
              "              style=\"display:none;\">\n",
              "        \n",
              "  <svg xmlns=\"http://www.w3.org/2000/svg\" height=\"24px\"viewBox=\"0 0 24 24\"\n",
              "       width=\"24px\">\n",
              "    <path d=\"M0 0h24v24H0V0z\" fill=\"none\"/>\n",
              "    <path d=\"M18.56 5.44l.94 2.06.94-2.06 2.06-.94-2.06-.94-.94-2.06-.94 2.06-2.06.94zm-11 1L8.5 8.5l.94-2.06 2.06-.94-2.06-.94L8.5 2.5l-.94 2.06-2.06.94zm10 10l.94 2.06.94-2.06 2.06-.94-2.06-.94-.94-2.06-.94 2.06-2.06.94z\"/><path d=\"M17.41 7.96l-1.37-1.37c-.4-.4-.92-.59-1.43-.59-.52 0-1.04.2-1.43.59L10.3 9.45l-7.72 7.72c-.78.78-.78 2.05 0 2.83L4 21.41c.39.39.9.59 1.41.59.51 0 1.02-.2 1.41-.59l7.78-7.78 2.81-2.81c.8-.78.8-2.07 0-2.86zM5.41 20L4 18.59l7.72-7.72 1.47 1.35L5.41 20z\"/>\n",
              "  </svg>\n",
              "      </button>\n",
              "      \n",
              "  <style>\n",
              "    .colab-df-container {\n",
              "      display:flex;\n",
              "      flex-wrap:wrap;\n",
              "      gap: 12px;\n",
              "    }\n",
              "\n",
              "    .colab-df-convert {\n",
              "      background-color: #E8F0FE;\n",
              "      border: none;\n",
              "      border-radius: 50%;\n",
              "      cursor: pointer;\n",
              "      display: none;\n",
              "      fill: #1967D2;\n",
              "      height: 32px;\n",
              "      padding: 0 0 0 0;\n",
              "      width: 32px;\n",
              "    }\n",
              "\n",
              "    .colab-df-convert:hover {\n",
              "      background-color: #E2EBFA;\n",
              "      box-shadow: 0px 1px 2px rgba(60, 64, 67, 0.3), 0px 1px 3px 1px rgba(60, 64, 67, 0.15);\n",
              "      fill: #174EA6;\n",
              "    }\n",
              "\n",
              "    [theme=dark] .colab-df-convert {\n",
              "      background-color: #3B4455;\n",
              "      fill: #D2E3FC;\n",
              "    }\n",
              "\n",
              "    [theme=dark] .colab-df-convert:hover {\n",
              "      background-color: #434B5C;\n",
              "      box-shadow: 0px 1px 3px 1px rgba(0, 0, 0, 0.15);\n",
              "      filter: drop-shadow(0px 1px 2px rgba(0, 0, 0, 0.3));\n",
              "      fill: #FFFFFF;\n",
              "    }\n",
              "  </style>\n",
              "\n",
              "      <script>\n",
              "        const buttonEl =\n",
              "          document.querySelector('#df-90ad2f3e-3778-4cdf-9a54-d101c68beb24 button.colab-df-convert');\n",
              "        buttonEl.style.display =\n",
              "          google.colab.kernel.accessAllowed ? 'block' : 'none';\n",
              "\n",
              "        async function convertToInteractive(key) {\n",
              "          const element = document.querySelector('#df-90ad2f3e-3778-4cdf-9a54-d101c68beb24');\n",
              "          const dataTable =\n",
              "            await google.colab.kernel.invokeFunction('convertToInteractive',\n",
              "                                                     [key], {});\n",
              "          if (!dataTable) return;\n",
              "\n",
              "          const docLinkHtml = 'Like what you see? Visit the ' +\n",
              "            '<a target=\"_blank\" href=https://colab.research.google.com/notebooks/data_table.ipynb>data table notebook</a>'\n",
              "            + ' to learn more about interactive tables.';\n",
              "          element.innerHTML = '';\n",
              "          dataTable['output_type'] = 'display_data';\n",
              "          await google.colab.output.renderOutput(dataTable, element);\n",
              "          const docLink = document.createElement('div');\n",
              "          docLink.innerHTML = docLinkHtml;\n",
              "          element.appendChild(docLink);\n",
              "        }\n",
              "      </script>\n",
              "    </div>\n",
              "  </div>\n",
              "  "
            ]
          },
          "metadata": {},
          "execution_count": 17
        }
      ]
    },
    {
      "cell_type": "code",
      "source": [
        "train.drop(['no'], axis = 1, inplace = True)"
      ],
      "metadata": {
        "id": "shf2SNRkxPoO"
      },
      "execution_count": null,
      "outputs": []
    },
    {
      "cell_type": "markdown",
      "source": [
        "# 종속변수, 독립변수 나누기"
      ],
      "metadata": {
        "id": "3xGWf-23jb1K"
      }
    },
    {
      "cell_type": "code",
      "source": [
        "X = train.iloc[:,:-1]\n",
        "y = train.iloc[:,-1]"
      ],
      "metadata": {
        "id": "VT4TEwhyjfWZ"
      },
      "execution_count": null,
      "outputs": []
    },
    {
      "cell_type": "code",
      "source": [
        "X.columns"
      ],
      "metadata": {
        "colab": {
          "base_uri": "https://localhost:8080/"
        },
        "id": "RwiGcRYcj2OZ",
        "outputId": "80bf239d-e9a9-4a61-8d27-e2b89138a240"
      },
      "execution_count": null,
      "outputs": [
        {
          "output_type": "execute_result",
          "data": {
            "text/plain": [
              "Index(['age', 'workclass', 'fnlwgt', 'education', 'education-num',\n",
              "       'marital-status', 'occupation', 'relationship', 'race', 'sex',\n",
              "       'capital-gain', 'capital-loss', 'hours-per-week', 'native-country'],\n",
              "      dtype='object')"
            ]
          },
          "metadata": {},
          "execution_count": 71
        }
      ]
    },
    {
      "cell_type": "code",
      "source": [
        "y"
      ],
      "metadata": {
        "colab": {
          "base_uri": "https://localhost:8080/"
        },
        "id": "8cu8cy0zj9kL",
        "outputId": "73aed400-72c9-4cbc-a138-dfdd56ff6eb6"
      },
      "execution_count": null,
      "outputs": [
        {
          "output_type": "execute_result",
          "data": {
            "text/plain": [
              "0        0\n",
              "1        0\n",
              "2        0\n",
              "3        0\n",
              "4        1\n",
              "        ..\n",
              "29300    0\n",
              "29301    0\n",
              "29302    0\n",
              "29303    0\n",
              "29304    0\n",
              "Name: income, Length: 29305, dtype: int64"
            ]
          },
          "metadata": {},
          "execution_count": 72
        }
      ]
    },
    {
      "cell_type": "markdown",
      "source": [
        "# train_test_split"
      ],
      "metadata": {
        "id": "J6Ce5Rd6kL7U"
      }
    },
    {
      "cell_type": "code",
      "source": [
        "train_x, test_x, train_y, test_y = train_test_split(X,y)"
      ],
      "metadata": {
        "id": "7LDtMAXlkQU5"
      },
      "execution_count": null,
      "outputs": []
    },
    {
      "cell_type": "markdown",
      "source": [
        "# 모델 학습"
      ],
      "metadata": {
        "id": "DmHFXYaaeNOj"
      }
    },
    {
      "cell_type": "markdown",
      "source": [
        "## 의사결정 나무"
      ],
      "metadata": {
        "id": "DeNSCd-teup3"
      }
    },
    {
      "cell_type": "code",
      "source": [
        "d_tree=DecisionTreeClassifier(random_state=42)\n",
        "d_tree.fit(train_x,train_y)"
      ],
      "metadata": {
        "colab": {
          "base_uri": "https://localhost:8080/"
        },
        "id": "Q6Y4gBbsZF1X",
        "outputId": "8794697f-6213-4fed-c81f-602ef0d879bc"
      },
      "execution_count": null,
      "outputs": [
        {
          "output_type": "execute_result",
          "data": {
            "text/plain": [
              "DecisionTreeClassifier(random_state=42)"
            ]
          },
          "metadata": {},
          "execution_count": 84
        }
      ]
    },
    {
      "cell_type": "code",
      "source": [
        "d_tree.score(train_x,train_y),d_tree.score(test_x,test_y)"
      ],
      "metadata": {
        "id": "7BuusTl2jSlh",
        "colab": {
          "base_uri": "https://localhost:8080/"
        },
        "outputId": "f5b4d0c2-39c1-4c9b-bed6-e9a201be2ec5"
      },
      "execution_count": null,
      "outputs": [
        {
          "output_type": "execute_result",
          "data": {
            "text/plain": [
              "(0.9998634998634999, 0.8046949638324007)"
            ]
          },
          "metadata": {},
          "execution_count": 85
        }
      ]
    },
    {
      "cell_type": "code",
      "source": [
        "plt.figure(figsize=(10,7))\n",
        "plot_tree(d_tree,max_depth=1,feature_names = X.columns)\n",
        "plt.show()"
      ],
      "metadata": {
        "colab": {
          "base_uri": "https://localhost:8080/",
          "height": 411
        },
        "id": "Jlp46zAs4c4Y",
        "outputId": "347a02aa-6afa-4f14-de2f-f9c789eb9b75"
      },
      "execution_count": null,
      "outputs": [
        {
          "output_type": "display_data",
          "data": {
            "text/plain": [
              "<Figure size 720x504 with 1 Axes>"
            ],
            "image/png": "[encoded data removed]"
          },
          "metadata": {
            "needs_background": "light"
          }
        }
      ]
    },
    {
      "cell_type": "code",
      "source": [
        "result = d_tree.predict(test_)"
      ],
      "metadata": {
        "id": "_6sXUCZdx_Yh"
      },
      "execution_count": null,
      "outputs": []
    },
    {
      "cell_type": "code",
      "source": [
        "result"
      ],
      "metadata": {
        "colab": {
          "base_uri": "https://localhost:8080/"
        },
        "id": "X5A6_1kQ0bai",
        "outputId": "dce30e5a-1452-4e6a-d7eb-cc05e528cb6f"
      },
      "execution_count": null,
      "outputs": [
        {
          "output_type": "execute_result",
          "data": {
            "text/plain": [
              "array([0, 0, 1, ..., 0, 0, 1])"
            ]
          },
          "metadata": {},
          "execution_count": 90
        }
      ]
    },
    {
      "cell_type": "markdown",
      "source": [
        "# 제출 형식 데이터로 변환"
      ],
      "metadata": {
        "id": "WxBnbOO2bdIZ"
      }
    },
    {
      "cell_type": "code",
      "source": [
        "no = [test['no'][i] for i in range(len(test))]\n",
        "no"
      ],
      "metadata": {
        "id": "iWaf8ugi2N8W"
      },
      "execution_count": null,
      "outputs": []
    },
    {
      "cell_type": "code",
      "source": [
        "df = pd.DataFrame(result,index = no, columns = ['income'])\n",
        "df.reset_index(inplace = True)\n",
        "df.columns = ['no','income']"
      ],
      "metadata": {
        "id": "Kd12QYYc1FxI"
      },
      "execution_count": null,
      "outputs": []
    },
    {
      "cell_type": "code",
      "source": [
        "df.reset_index(inplace = True)"
      ],
      "metadata": {
        "id": "qGRAPUw83WX5"
      },
      "execution_count": null,
      "outputs": []
    },
    {
      "cell_type": "code",
      "source": [
        "df.columns = ['no','income']\n",
        "df"
      ],
      "metadata": {
        "colab": {
          "base_uri": "https://localhost:8080/",
          "height": 423
        },
        "id": "v6M8-Scy3eSb",
        "outputId": "8116944b-c944-4910-e45f-1fbb160b65cb"
      },
      "execution_count": null,
      "outputs": [
        {
          "output_type": "execute_result",
          "data": {
            "text/plain": [
              "          no  income\n",
              "0      29306       0\n",
              "1      29307       0\n",
              "2      29308       1\n",
              "3      29309       0\n",
              "4      29310       1\n",
              "...      ...     ...\n",
              "19532  48838       0\n",
              "19533  48839       0\n",
              "19534  48840       0\n",
              "19535  48841       0\n",
              "19536  48842       1\n",
              "\n",
              "[19537 rows x 2 columns]"
            ],
            "text/html": [
              "\n",
              "  <div id=\"df-6573d0bb-6ba9-4b82-9697-671c26b3c7ab\">\n",
              "    <div class=\"colab-df-container\">\n",
              "      <div>\n",
              "<style scoped>\n",
              "    .dataframe tbody tr th:only-of-type {\n",
              "        vertical-align: middle;\n",
              "    }\n",
              "\n",
              "    .dataframe tbody tr th {\n",
              "        vertical-align: top;\n",
              "    }\n",
              "\n",
              "    .dataframe thead th {\n",
              "        text-align: right;\n",
              "    }\n",
              "</style>\n",
              "<table border=\"1\" class=\"dataframe\">\n",
              "  <thead>\n",
              "    <tr style=\"text-align: right;\">\n",
              "      <th></th>\n",
              "      <th>no</th>\n",
              "      <th>income</th>\n",
              "    </tr>\n",
              "  </thead>\n",
              "  <tbody>\n",
              "    <tr>\n",
              "      <th>0</th>\n",
              "      <td>29306</td>\n",
              "      <td>0</td>\n",
              "    </tr>\n",
              "    <tr>\n",
              "      <th>1</th>\n",
              "      <td>29307</td>\n",
              "      <td>0</td>\n",
              "    </tr>\n",
              "    <tr>\n",
              "      <th>2</th>\n",
              "      <td>29308</td>\n",
              "      <td>1</td>\n",
              "    </tr>\n",
              "    <tr>\n",
              "      <th>3</th>\n",
              "      <td>29309</td>\n",
              "      <td>0</td>\n",
              "    </tr>\n",
              "    <tr>\n",
              "      <th>4</th>\n",
              "      <td>29310</td>\n",
              "      <td>1</td>\n",
              "    </tr>\n",
              "    <tr>\n",
              "      <th>...</th>\n",
              "      <td>...</td>\n",
              "      <td>...</td>\n",
              "    </tr>\n",
              "    <tr>\n",
              "      <th>19532</th>\n",
              "      <td>48838</td>\n",
              "      <td>0</td>\n",
              "    </tr>\n",
              "    <tr>\n",
              "      <th>19533</th>\n",
              "      <td>48839</td>\n",
              "      <td>0</td>\n",
              "    </tr>\n",
              "    <tr>\n",
              "      <th>19534</th>\n",
              "      <td>48840</td>\n",
              "      <td>0</td>\n",
              "    </tr>\n",
              "    <tr>\n",
              "      <th>19535</th>\n",
              "      <td>48841</td>\n",
              "      <td>0</td>\n",
              "    </tr>\n",
              "    <tr>\n",
              "      <th>19536</th>\n",
              "      <td>48842</td>\n",
              "      <td>1</td>\n",
              "    </tr>\n",
              "  </tbody>\n",
              "</table>\n",
              "<p>19537 rows × 2 columns</p>\n",
              "</div>\n",
              "      <button class=\"colab-df-convert\" onclick=\"convertToInteractive('df-6573d0bb-6ba9-4b82-9697-671c26b3c7ab')\"\n",
              "              title=\"Convert this dataframe to an interactive table.\"\n",
              "              style=\"display:none;\">\n",
              "        \n",
              "  <svg xmlns=\"http://www.w3.org/2000/svg\" height=\"24px\"viewBox=\"0 0 24 24\"\n",
              "       width=\"24px\">\n",
              "    <path d=\"M0 0h24v24H0V0z\" fill=\"none\"/>\n",
              "    <path d=\"M18.56 5.44l.94 2.06.94-2.06 2.06-.94-2.06-.94-.94-2.06-.94 2.06-2.06.94zm-11 1L8.5 8.5l.94-2.06 2.06-.94-2.06-.94L8.5 2.5l-.94 2.06-2.06.94zm10 10l.94 2.06.94-2.06 2.06-.94-2.06-.94-.94-2.06-.94 2.06-2.06.94z\"/><path d=\"M17.41 7.96l-1.37-1.37c-.4-.4-.92-.59-1.43-.59-.52 0-1.04.2-1.43.59L10.3 9.45l-7.72 7.72c-.78.78-.78 2.05 0 2.83L4 21.41c.39.39.9.59 1.41.59.51 0 1.02-.2 1.41-.59l7.78-7.78 2.81-2.81c.8-.78.8-2.07 0-2.86zM5.41 20L4 18.59l7.72-7.72 1.47 1.35L5.41 20z\"/>\n",
              "  </svg>\n",
              "      </button>\n",
              "      \n",
              "  <style>\n",
              "    .colab-df-container {\n",
              "      display:flex;\n",
              "      flex-wrap:wrap;\n",
              "      gap: 12px;\n",
              "    }\n",
              "\n",
              "    .colab-df-convert {\n",
              "      background-color: #E8F0FE;\n",
              "      border: none;\n",
              "      border-radius: 50%;\n",
              "      cursor: pointer;\n",
              "      display: none;\n",
              "      fill: #1967D2;\n",
              "      height: 32px;\n",
              "      padding: 0 0 0 0;\n",
              "      width: 32px;\n",
              "    }\n",
              "\n",
              "    .colab-df-convert:hover {\n",
              "      background-color: #E2EBFA;\n",
              "      box-shadow: 0px 1px 2px rgba(60, 64, 67, 0.3), 0px 1px 3px 1px rgba(60, 64, 67, 0.15);\n",
              "      fill: #174EA6;\n",
              "    }\n",
              "\n",
              "    [theme=dark] .colab-df-convert {\n",
              "      background-color: #3B4455;\n",
              "      fill: #D2E3FC;\n",
              "    }\n",
              "\n",
              "    [theme=dark] .colab-df-convert:hover {\n",
              "      background-color: #434B5C;\n",
              "      box-shadow: 0px 1px 3px 1px rgba(0, 0, 0, 0.15);\n",
              "      filter: drop-shadow(0px 1px 2px rgba(0, 0, 0, 0.3));\n",
              "      fill: #FFFFFF;\n",
              "    }\n",
              "  </style>\n",
              "\n",
              "      <script>\n",
              "        const buttonEl =\n",
              "          document.querySelector('#df-6573d0bb-6ba9-4b82-9697-671c26b3c7ab button.colab-df-convert');\n",
              "        buttonEl.style.display =\n",
              "          google.colab.kernel.accessAllowed ? 'block' : 'none';\n",
              "\n",
              "        async function convertToInteractive(key) {\n",
              "          const element = document.querySelector('#df-6573d0bb-6ba9-4b82-9697-671c26b3c7ab');\n",
              "          const dataTable =\n",
              "            await google.colab.kernel.invokeFunction('convertToInteractive',\n",
              "                                                     [key], {});\n",
              "          if (!dataTable) return;\n",
              "\n",
              "          const docLinkHtml = 'Like what you see? Visit the ' +\n",
              "            '<a target=\"_blank\" href=https://colab.research.google.com/notebooks/data_table.ipynb>data table notebook</a>'\n",
              "            + ' to learn more about interactive tables.';\n",
              "          element.innerHTML = '';\n",
              "          dataTable['output_type'] = 'display_data';\n",
              "          await google.colab.output.renderOutput(dataTable, element);\n",
              "          const docLink = document.createElement('div');\n",
              "          docLink.innerHTML = docLinkHtml;\n",
              "          element.appendChild(docLink);\n",
              "        }\n",
              "      </script>\n",
              "    </div>\n",
              "  </div>\n",
              "  "
            ]
          },
          "metadata": {},
          "execution_count": 110
        }
      ]
    },
    {
      "cell_type": "code",
      "source": [
        "df.to_csv('result.csv', index = False)"
      ],
      "metadata": {
        "id": "5vQGkEBX39nk"
      },
      "execution_count": null,
      "outputs": []
    },
    {
      "cell_type": "markdown",
      "source": [
        "과적합된 모델 -> 랜덤 포레스트"
      ],
      "metadata": {
        "id": "CuJDlXHgyKHz"
      }
    },
    {
      "cell_type": "markdown",
      "source": [
        "# 랜덤 포레스트"
      ],
      "metadata": {
        "id": "ooIBSMHC3HFc"
      }
    },
    {
      "cell_type": "code",
      "source": [
        "from sklearn.ensemble import RandomForestClassifier\n",
        "from sklearn.model_selection import cross_val_score\n",
        "\n",
        "en = RandomForestClassifier(n_estimators=10, max_features = 2, oob_score = True)\n",
        "cross_val_score(en, train_x,train_y, cv = 5).mean() #cv : 교차 검증 폴드 수"
      ],
      "metadata": {
        "colab": {
          "base_uri": "https://localhost:8080/"
        },
        "id": "EgPmOQpK3UaD",
        "outputId": "53d949f6-760e-4528-f366-6fce98a8cb19"
      },
      "execution_count": null,
      "outputs": [
        {
          "output_type": "stream",
          "name": "stderr",
          "text": [
            "/usr/local/lib/python3.7/dist-packages/sklearn/ensemble/_forest.py:564: UserWarning: Some inputs do not have OOB scores. This probably means too few trees were used to compute any reliable OOB estimates.\n",
            "  UserWarning,\n",
            "/usr/local/lib/python3.7/dist-packages/sklearn/ensemble/_forest.py:564: UserWarning: Some inputs do not have OOB scores. This probably means too few trees were used to compute any reliable OOB estimates.\n",
            "  UserWarning,\n",
            "/usr/local/lib/python3.7/dist-packages/sklearn/ensemble/_forest.py:564: UserWarning: Some inputs do not have OOB scores. This probably means too few trees were used to compute any reliable OOB estimates.\n",
            "  UserWarning,\n",
            "/usr/local/lib/python3.7/dist-packages/sklearn/ensemble/_forest.py:564: UserWarning: Some inputs do not have OOB scores. This probably means too few trees were used to compute any reliable OOB estimates.\n",
            "  UserWarning,\n",
            "/usr/local/lib/python3.7/dist-packages/sklearn/ensemble/_forest.py:564: UserWarning: Some inputs do not have OOB scores. This probably means too few trees were used to compute any reliable OOB estimates.\n",
            "  UserWarning,\n"
          ]
        },
        {
          "output_type": "execute_result",
          "data": {
            "text/plain": [
              "0.8462097925407418"
            ]
          },
          "metadata": {},
          "execution_count": 114
        }
      ]
    },
    {
      "cell_type": "code",
      "source": [
        "en.fit(train_x,train_y)"
      ],
      "metadata": {
        "colab": {
          "base_uri": "https://localhost:8080/"
        },
        "id": "g-hMCsM_3Tgq",
        "outputId": "e3826898-1cd8-4e11-d70f-f943eb8abc1a"
      },
      "execution_count": null,
      "outputs": [
        {
          "output_type": "stream",
          "name": "stderr",
          "text": [
            "/usr/local/lib/python3.7/dist-packages/sklearn/ensemble/_forest.py:564: UserWarning: Some inputs do not have OOB scores. This probably means too few trees were used to compute any reliable OOB estimates.\n",
            "  UserWarning,\n"
          ]
        },
        {
          "output_type": "execute_result",
          "data": {
            "text/plain": [
              "RandomForestClassifier(max_features=2, n_estimators=10, oob_score=True)"
            ]
          },
          "metadata": {},
          "execution_count": 116
        }
      ]
    },
    {
      "cell_type": "code",
      "source": [
        "en.score(train_x,train_y)"
      ],
      "metadata": {
        "colab": {
          "base_uri": "https://localhost:8080/"
        },
        "id": "fAc7djU75tAW",
        "outputId": "d155bcd7-2ba0-4bff-a36a-02af0ed0f173"
      },
      "execution_count": null,
      "outputs": [
        {
          "output_type": "execute_result",
          "data": {
            "text/plain": [
              "0.9878969878969879"
            ]
          },
          "metadata": {},
          "execution_count": 119
        }
      ]
    },
    {
      "cell_type": "code",
      "source": [
        "en_result = en.predict(test_)"
      ],
      "metadata": {
        "id": "YpjFBWOs5pog"
      },
      "execution_count": null,
      "outputs": []
    },
    {
      "cell_type": "code",
      "source": [
        "df = pd.DataFrame(en_result,index = no, columns = ['income'])\n",
        "df.reset_index(inplace = True)\n",
        "df.columns = ['no','income']"
      ],
      "metadata": {
        "id": "W8mUCZyI6Bgz"
      },
      "execution_count": null,
      "outputs": []
    },
    {
      "cell_type": "code",
      "source": [
        "df.to_csv('result_en.csv', index = False)"
      ],
      "metadata": {
        "id": "H9tjRA4f6HCN"
      },
      "execution_count": null,
      "outputs": []
    },
    {
      "cell_type": "code",
      "source": [
        "en.fit(train_x,train_y)\n",
        "result = en.predict(test)"
      ],
      "metadata": {
        "id": "Bmbyn5zkpWub"
      },
      "execution_count": null,
      "outputs": []
    },
    {
      "cell_type": "code",
      "source": [
        "submit['income'] = result"
      ],
      "metadata": {
        "id": "jXdHqZUUtOLq"
      },
      "execution_count": null,
      "outputs": []
    },
    {
      "cell_type": "markdown",
      "source": [
        "교차 검증"
      ],
      "metadata": {
        "id": "AR8VjEb2zhi5"
      }
    },
    {
      "cell_type": "code",
      "source": [
        ""
      ],
      "metadata": {
        "id": "uHrlWHKl7Eq3"
      },
      "execution_count": null,
      "outputs": []
    }
  ],
  "metadata": {
    "colab": {
      "name": "소득 분류.ipynb",
      "provenance": [],
      "collapsed_sections": []
    },
    "kernelspec": {
      "display_name": "Python 3",
      "name": "python3"
    },
    "language_info": {
      "name": "python"
    }
  },
  "nbformat": 4,
  "nbformat_minor": 0
}